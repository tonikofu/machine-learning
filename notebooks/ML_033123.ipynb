{
 "cells": [
  {
   "attachments": {},
   "cell_type": "markdown",
   "metadata": {},
   "source": [
    "<b>Выполните следующие задания:</b>\n",
    "- решите задачи регрессии и классификации на ваших данных используя полносвязные нейронные сети; соберите их используя API Keras фреймворка TensorFlow; оцените качество полученных моделей с помощью метрик; \n",
    "- реализуйте многослойный персептрон, с помощью которого можно решать задачи регрессии и классификации; предусмотрите возможность использовать такие функции активации, как sigmoid, tanh и relu; также предусмотрите возможность указать, сколько слоев нужно, сколько на каждом из них нейронов и какую функцию активации должен иметь слой; реализуйте обучение персептрона методом обратного распространения ошибки; самостоятельно найдите производные функций sigmoid, tanh и relu; реализуйте классический градиентный спуск с возможностью указания шага."
   ]
  },
  {
   "attachments": {},
   "cell_type": "markdown",
   "metadata": {},
   "source": [
    "# Задание 1"
   ]
  },
  {
   "cell_type": "code",
   "execution_count": 2,
   "metadata": {},
   "outputs": [],
   "source": [
    "import sys\n",
    "sys.path.insert(0, \"C://Users//MSI//Desktop//OmSTU//MachineLearning//models//Neyron\")\n",
    "from multilayer_perceptron import MultilayerPerceptronModel\n",
    "\n",
    "import pandas as pd\n",
    "import numpy as np\n",
    "import tensorflow as tf\n",
    "from sklearn.model_selection import train_test_split\n",
    "from sklearn.metrics import mean_absolute_error, classification_report\n",
    "from sklearn.preprocessing import StandardScaler\n",
    "from imblearn.over_sampling import SMOTE"
   ]
  },
  {
   "cell_type": "code",
   "execution_count": 3,
   "metadata": {},
   "outputs": [],
   "source": [
    "classification_data = pd.read_csv(\"../data/card_transdata.csv\").sample(10000)\n",
    "regression_data = pd.read_csv(\"../data/kc_house_data_preprocessed.csv\").drop(columns=[\"Unnamed: 0\"])"
   ]
  },
  {
   "cell_type": "code",
   "execution_count": 4,
   "metadata": {},
   "outputs": [],
   "source": [
    "classification_target = classification_data['fraud']\n",
    "classification_predicators = classification_data.drop(columns=['fraud'])\n",
    "regression_target = regression_data['price']\n",
    "regression_predicators = regression_data.drop(columns=['price'])"
   ]
  },
  {
   "cell_type": "code",
   "execution_count": 5,
   "metadata": {},
   "outputs": [],
   "source": [
    "X_train_classification, X_test_classification, y_train_classification, y_test_classification = train_test_split(\n",
    "    classification_predicators, classification_target, test_size=0.5\n",
    ")\n",
    "\n",
    "X_train_regression, X_test_regression, y_train_regression, y_test_regression = train_test_split(\n",
    "    regression_predicators, regression_target, test_size=0.5\n",
    ")"
   ]
  },
  {
   "cell_type": "code",
   "execution_count": 6,
   "metadata": {},
   "outputs": [
    {
     "name": "stdout",
     "output_type": "stream",
     "text": [
      "0.0    4589\n",
      "1.0    4589\n",
      "Name: fraud, dtype: int64\n",
      "Отношение 0 к 1: 1.0\n"
     ]
    }
   ],
   "source": [
    "smote = SMOTE()\n",
    "X_train_classification, y_train_classification = smote.fit_resample(X_train_classification, y_train_classification)\n",
    "values = y_train_classification.value_counts()\n",
    "print(values)\n",
    "print(f\"Отношение 0 к 1: { values[0] / values[1] }\")"
   ]
  },
  {
   "cell_type": "code",
   "execution_count": 7,
   "metadata": {},
   "outputs": [],
   "source": [
    "X_train_classification = StandardScaler().fit_transform(X_train_classification)\n",
    "X_test_classification = StandardScaler().fit_transform(X_test_classification)"
   ]
  },
  {
   "cell_type": "code",
   "execution_count": 9,
   "metadata": {},
   "outputs": [],
   "source": [
    "classification_model = tf.keras.Sequential(\n",
    "    [\n",
    "    tf.keras.layers.Dense(128, activation='relu', input_shape=(7,)),\n",
    "    tf.keras.layers.Dense(32, activation='relu'),\n",
    "    tf.keras.layers.Dropout(0.1),\n",
    "    tf.keras.layers.Dense(16, activation=\"relu\"),\n",
    "    tf.keras.layers.Dropout(0.1),\n",
    "    tf.keras.layers.Dense(1, activation='sigmoid'),\n",
    "    ]\n",
    ")"
   ]
  },
  {
   "cell_type": "code",
   "execution_count": 10,
   "metadata": {},
   "outputs": [
    {
     "name": "stdout",
     "output_type": "stream",
     "text": [
      "Epoch 1/20\n",
      "287/287 [==============================] - 1s 2ms/step - loss: 0.0329\n",
      "Epoch 2/20\n",
      "287/287 [==============================] - 0s 2ms/step - loss: 0.0179\n",
      "Epoch 3/20\n",
      "287/287 [==============================] - 0s 1ms/step - loss: 0.0119\n",
      "Epoch 4/20\n",
      "287/287 [==============================] - 0s 1ms/step - loss: 0.0127\n",
      "Epoch 5/20\n",
      "287/287 [==============================] - 0s 1ms/step - loss: 0.0096\n",
      "Epoch 6/20\n",
      "287/287 [==============================] - 0s 2ms/step - loss: 0.0118\n",
      "Epoch 7/20\n",
      "287/287 [==============================] - 0s 2ms/step - loss: 0.0082\n",
      "Epoch 8/20\n",
      "287/287 [==============================] - 0s 1ms/step - loss: 0.0070\n",
      "Epoch 9/20\n",
      "287/287 [==============================] - 1s 2ms/step - loss: 0.0087\n",
      "Epoch 10/20\n",
      "287/287 [==============================] - 1s 2ms/step - loss: 0.0069\n",
      "Epoch 11/20\n",
      "287/287 [==============================] - 1s 2ms/step - loss: 0.0078\n",
      "Epoch 12/20\n",
      "287/287 [==============================] - 1s 2ms/step - loss: 0.0059\n",
      "Epoch 13/20\n",
      "287/287 [==============================] - 0s 2ms/step - loss: 0.0060\n",
      "Epoch 14/20\n",
      "287/287 [==============================] - 0s 2ms/step - loss: 0.0065\n",
      "Epoch 15/20\n",
      "287/287 [==============================] - 0s 2ms/step - loss: 0.0036\n",
      "Epoch 16/20\n",
      "287/287 [==============================] - 0s 2ms/step - loss: 0.0047\n",
      "Epoch 17/20\n",
      "287/287 [==============================] - 0s 2ms/step - loss: 0.0028\n",
      "Epoch 18/20\n",
      "287/287 [==============================] - 0s 2ms/step - loss: 0.0042\n",
      "Epoch 19/20\n",
      "287/287 [==============================] - 0s 2ms/step - loss: 0.0039\n",
      "Epoch 20/20\n",
      "287/287 [==============================] - 0s 1ms/step - loss: 0.0029\n"
     ]
    },
    {
     "data": {
      "text/plain": [
       "<keras.callbacks.History at 0x274a10265b0>"
      ]
     },
     "execution_count": 10,
     "metadata": {},
     "output_type": "execute_result"
    }
   ],
   "source": [
    "classification_model.compile(optimizer=tf.keras.optimizers.Adam(learning_rate=0.005), loss=\"mse\")\n",
    "classification_model.fit(X_train_classification, y_train_classification, epochs=20)"
   ]
  },
  {
   "cell_type": "code",
   "execution_count": 11,
   "metadata": {},
   "outputs": [
    {
     "name": "stdout",
     "output_type": "stream",
     "text": [
      "157/157 [==============================] - 0s 2ms/step\n",
      "              precision    recall  f1-score   support\n",
      "\n",
      "         0.0       0.88      1.00      0.93      4020\n",
      "         1.0       0.98      0.42      0.59       980\n",
      "\n",
      "    accuracy                           0.88      5000\n",
      "   macro avg       0.93      0.71      0.76      5000\n",
      "weighted avg       0.90      0.88      0.86      5000\n",
      "\n"
     ]
    }
   ],
   "source": [
    "y_pred = np.around(classification_model.predict(X_test_classification))\n",
    "print(classification_report(y_pred, y_test_classification))"
   ]
  },
  {
   "cell_type": "code",
   "execution_count": 12,
   "metadata": {},
   "outputs": [
    {
     "name": "stdout",
     "output_type": "stream",
     "text": [
      "Keras weights file (<HDF5 file \"variables.h5\" (mode r+)>) saving:\n",
      "...layers\\dense\n",
      "......vars\n",
      ".........0\n",
      ".........1\n",
      "...layers\\dense_1\n",
      "......vars\n",
      ".........0\n",
      ".........1\n",
      "...layers\\dense_2\n",
      "......vars\n",
      ".........0\n",
      ".........1\n",
      "...layers\\dense_3\n",
      "......vars\n",
      ".........0\n",
      ".........1\n",
      "...layers\\dropout\n",
      "......vars\n",
      "...layers\\dropout_1\n",
      "......vars\n",
      "...metrics\\mean\n",
      "......vars\n",
      ".........0\n",
      ".........1\n",
      "...optimizer\n",
      "......vars\n",
      ".........0\n",
      ".........1\n",
      ".........10\n",
      ".........11\n",
      ".........12\n",
      ".........13\n",
      ".........14\n",
      ".........15\n",
      ".........16\n",
      ".........2\n",
      ".........3\n",
      ".........4\n",
      ".........5\n",
      ".........6\n",
      ".........7\n",
      ".........8\n",
      ".........9\n",
      "...vars\n",
      "Keras model archive saving:\n",
      "File Name                                             Modified             Size\n",
      "config.json                                    2023-06-05 01:05:07         2929\n",
      "metadata.json                                  2023-06-05 01:05:07           64\n",
      "variables.h5                                   2023-06-05 01:05:07        96784\n"
     ]
    },
    {
     "data": {
      "text/plain": [
       "['neyron.joblib']"
      ]
     },
     "execution_count": 12,
     "metadata": {},
     "output_type": "execute_result"
    }
   ],
   "source": [
    "from joblib import dump\n",
    "dump(classification_model, \"neyron.joblib\")"
   ]
  },
  {
   "cell_type": "code",
   "execution_count": 12,
   "metadata": {},
   "outputs": [
    {
     "name": "stdout",
     "output_type": "stream",
     "text": [
      "Model: \"sequential\"\n",
      "_________________________________________________________________\n",
      " Layer (type)                Output Shape              Param #   \n",
      "=================================================================\n",
      " dense (Dense)               (None, 128)               1024      \n",
      "                                                                 \n",
      " dense_1 (Dense)             (None, 32)                4128      \n",
      "                                                                 \n",
      " dropout (Dropout)           (None, 32)                0         \n",
      "                                                                 \n",
      " dense_2 (Dense)             (None, 16)                528       \n",
      "                                                                 \n",
      " dropout_1 (Dropout)         (None, 16)                0         \n",
      "                                                                 \n",
      " dense_3 (Dense)             (None, 1)                 17        \n",
      "                                                                 \n",
      "=================================================================\n",
      "Total params: 5,697\n",
      "Trainable params: 5,697\n",
      "Non-trainable params: 0\n",
      "_________________________________________________________________\n"
     ]
    }
   ],
   "source": [
    "classification_model.summary()"
   ]
  },
  {
   "cell_type": "code",
   "execution_count": 13,
   "metadata": {},
   "outputs": [],
   "source": [
    "regression_model = tf.keras.Sequential(\n",
    "    [\n",
    "        tf.keras.layers.Dense(128, activation=\"relu\", input_shape=(21,)),\n",
    "        tf.keras.layers.Dense(32, activation=\"linear\"),\n",
    "        tf.keras.layers.Dropout(0.1),\n",
    "        tf.keras.layers.Dense(16, activation=\"linear\"),\n",
    "        tf.keras.layers.Dropout(0.1),\n",
    "        tf.keras.layers.Dense(1, activation=\"linear\"),\n",
    "    ]\n",
    ")"
   ]
  },
  {
   "cell_type": "code",
   "execution_count": 14,
   "metadata": {},
   "outputs": [
    {
     "name": "stdout",
     "output_type": "stream",
     "text": [
      "Epoch 1/50\n",
      "338/338 [==============================] - 2s 2ms/step - loss: 102782566400.0000\n",
      "Epoch 2/50\n",
      "338/338 [==============================] - 1s 2ms/step - loss: 68260298752.0000\n",
      "Epoch 3/50\n",
      "338/338 [==============================] - 1s 2ms/step - loss: 64893775872.0000\n",
      "Epoch 4/50\n",
      "338/338 [==============================] - 1s 2ms/step - loss: 62885531648.0000\n",
      "Epoch 5/50\n",
      "338/338 [==============================] - 1s 2ms/step - loss: 64755675136.0000\n",
      "Epoch 6/50\n",
      "338/338 [==============================] - 1s 2ms/step - loss: 62003982336.0000\n",
      "Epoch 7/50\n",
      "338/338 [==============================] - 1s 2ms/step - loss: 61917638656.0000\n",
      "Epoch 8/50\n",
      "338/338 [==============================] - 1s 2ms/step - loss: 60020531200.0000\n",
      "Epoch 9/50\n",
      "338/338 [==============================] - 1s 2ms/step - loss: 62091304960.0000\n",
      "Epoch 10/50\n",
      "338/338 [==============================] - 1s 2ms/step - loss: 59034267648.0000\n",
      "Epoch 11/50\n",
      "338/338 [==============================] - 1s 2ms/step - loss: 59963043840.0000\n",
      "Epoch 12/50\n",
      "338/338 [==============================] - 1s 2ms/step - loss: 57574592512.0000\n",
      "Epoch 13/50\n",
      "338/338 [==============================] - 1s 2ms/step - loss: 59402108928.0000\n",
      "Epoch 14/50\n",
      "338/338 [==============================] - 1s 2ms/step - loss: 60432588800.0000\n",
      "Epoch 15/50\n",
      "338/338 [==============================] - 1s 2ms/step - loss: 59141472256.0000\n",
      "Epoch 16/50\n",
      "338/338 [==============================] - 1s 2ms/step - loss: 59747282944.0000\n",
      "Epoch 17/50\n",
      "338/338 [==============================] - 1s 2ms/step - loss: 58944106496.0000\n",
      "Epoch 18/50\n",
      "338/338 [==============================] - 1s 2ms/step - loss: 61202407424.0000\n",
      "Epoch 19/50\n",
      "338/338 [==============================] - 1s 2ms/step - loss: 58090004480.0000\n",
      "Epoch 20/50\n",
      "338/338 [==============================] - 1s 2ms/step - loss: 57839767552.0000\n",
      "Epoch 21/50\n",
      "338/338 [==============================] - 1s 2ms/step - loss: 58826780672.0000\n",
      "Epoch 22/50\n",
      "338/338 [==============================] - 1s 2ms/step - loss: 59019862016.0000\n",
      "Epoch 23/50\n",
      "338/338 [==============================] - 1s 2ms/step - loss: 58569523200.0000\n",
      "Epoch 24/50\n",
      "338/338 [==============================] - 1s 2ms/step - loss: 58758053888.0000\n",
      "Epoch 25/50\n",
      "338/338 [==============================] - 1s 2ms/step - loss: 59351052288.0000\n",
      "Epoch 26/50\n",
      "338/338 [==============================] - 1s 2ms/step - loss: 58222350336.0000\n",
      "Epoch 27/50\n",
      "338/338 [==============================] - 1s 2ms/step - loss: 58462752768.0000\n",
      "Epoch 28/50\n",
      "338/338 [==============================] - 1s 2ms/step - loss: 57990021120.0000\n",
      "Epoch 29/50\n",
      "338/338 [==============================] - 1s 2ms/step - loss: 58021314560.0000\n",
      "Epoch 30/50\n",
      "338/338 [==============================] - 1s 2ms/step - loss: 58117259264.0000\n",
      "Epoch 31/50\n",
      "338/338 [==============================] - 1s 2ms/step - loss: 57367048192.0000\n",
      "Epoch 32/50\n",
      "338/338 [==============================] - 1s 2ms/step - loss: 57021374464.0000\n",
      "Epoch 33/50\n",
      "338/338 [==============================] - 1s 2ms/step - loss: 58907701248.0000\n",
      "Epoch 34/50\n",
      "338/338 [==============================] - 1s 2ms/step - loss: 59743502336.0000\n",
      "Epoch 35/50\n",
      "338/338 [==============================] - 1s 2ms/step - loss: 59235950592.0000\n",
      "Epoch 36/50\n",
      "338/338 [==============================] - 1s 2ms/step - loss: 57226657792.0000\n",
      "Epoch 37/50\n",
      "338/338 [==============================] - 1s 2ms/step - loss: 58964086784.0000\n",
      "Epoch 38/50\n",
      "338/338 [==============================] - 1s 2ms/step - loss: 57057251328.0000\n",
      "Epoch 39/50\n",
      "338/338 [==============================] - 1s 2ms/step - loss: 56524361728.0000\n",
      "Epoch 40/50\n",
      "338/338 [==============================] - 1s 2ms/step - loss: 56521052160.0000\n",
      "Epoch 41/50\n",
      "338/338 [==============================] - 1s 2ms/step - loss: 58220851200.0000\n",
      "Epoch 42/50\n",
      "338/338 [==============================] - 1s 2ms/step - loss: 58442883072.0000\n",
      "Epoch 43/50\n",
      "338/338 [==============================] - 1s 2ms/step - loss: 57829494784.0000\n",
      "Epoch 44/50\n",
      "338/338 [==============================] - 1s 2ms/step - loss: 57643855872.0000\n",
      "Epoch 45/50\n",
      "338/338 [==============================] - 1s 2ms/step - loss: 57044901888.0000\n",
      "Epoch 46/50\n",
      "338/338 [==============================] - 1s 2ms/step - loss: 59297705984.0000\n",
      "Epoch 47/50\n",
      "338/338 [==============================] - 1s 2ms/step - loss: 56878272512.0000\n",
      "Epoch 48/50\n",
      "338/338 [==============================] - 1s 2ms/step - loss: 56801697792.0000\n",
      "Epoch 49/50\n",
      "338/338 [==============================] - 1s 2ms/step - loss: 57267019776.0000\n",
      "Epoch 50/50\n",
      "338/338 [==============================] - 1s 2ms/step - loss: 57253269504.0000\n"
     ]
    },
    {
     "data": {
      "text/plain": [
       "<keras.callbacks.History at 0x22ad9100520>"
      ]
     },
     "execution_count": 14,
     "metadata": {},
     "output_type": "execute_result"
    }
   ],
   "source": [
    "regression_model.compile(optimizer=tf.keras.optimizers.Adam(learning_rate=0.005), loss=\"mse\")\n",
    "regression_model.fit(X_train_regression, y_train_regression, epochs=50)"
   ]
  },
  {
   "cell_type": "code",
   "execution_count": 15,
   "metadata": {},
   "outputs": [
    {
     "name": "stdout",
     "output_type": "stream",
     "text": [
      "338/338 [==============================] - 1s 2ms/step\n",
      "163173.99574349957\n"
     ]
    }
   ],
   "source": [
    "y_pred = np.around(regression_model.predict(X_test_regression))\n",
    "print(mean_absolute_error(y_pred, y_test_regression))"
   ]
  },
  {
   "cell_type": "code",
   "execution_count": 16,
   "metadata": {},
   "outputs": [
    {
     "name": "stdout",
     "output_type": "stream",
     "text": [
      "Model: \"sequential_1\"\n",
      "_________________________________________________________________\n",
      " Layer (type)                Output Shape              Param #   \n",
      "=================================================================\n",
      " dense_4 (Dense)             (None, 128)               2816      \n",
      "                                                                 \n",
      " dense_5 (Dense)             (None, 32)                4128      \n",
      "                                                                 \n",
      " dropout_2 (Dropout)         (None, 32)                0         \n",
      "                                                                 \n",
      " dense_6 (Dense)             (None, 16)                528       \n",
      "                                                                 \n",
      " dropout_3 (Dropout)         (None, 16)                0         \n",
      "                                                                 \n",
      " dense_7 (Dense)             (None, 1)                 17        \n",
      "                                                                 \n",
      "=================================================================\n",
      "Total params: 7,489\n",
      "Trainable params: 7,489\n",
      "Non-trainable params: 0\n",
      "_________________________________________________________________\n"
     ]
    }
   ],
   "source": [
    "regression_model.summary()"
   ]
  },
  {
   "attachments": {},
   "cell_type": "markdown",
   "metadata": {},
   "source": [
    "# Задание 2"
   ]
  },
  {
   "cell_type": "code",
   "execution_count": 7,
   "metadata": {},
   "outputs": [
    {
     "name": "stdout",
     "output_type": "stream",
     "text": [
      "              precision    recall  f1-score   support\n",
      "\n",
      "           0       0.60      0.99      0.74      2780\n",
      "           1       0.91      0.17      0.28      2220\n",
      "\n",
      "    accuracy                           0.62      5000\n",
      "   macro avg       0.75      0.58      0.51      5000\n",
      "weighted avg       0.73      0.62      0.54      5000\n",
      "\n"
     ]
    }
   ],
   "source": [
    "layers = ([32, \"tanh\"],\n",
    "          [16, \"tanh\"],\n",
    "          [8, \"tanh\"],\n",
    "          [4, \"tanh\"],\n",
    "          [1, \"sigmoid\"])\n",
    "\n",
    "mlp = MultilayerPerceptronModel(layers,\n",
    "                                l_rate=1e-8,\n",
    "                                n_epoch=50)\n",
    "mlp.fit(np.array(X_train_classification), np.array([y_train_classification]).T)\n",
    "y_pred = mlp.predict(np.array(X_test_classification))\n",
    "print(classification_report(y_pred, y_test_classification))"
   ]
  },
  {
   "cell_type": "code",
   "execution_count": 9,
   "metadata": {},
   "outputs": [
    {
     "name": "stdout",
     "output_type": "stream",
     "text": [
      "240775.4300336094\n"
     ]
    }
   ],
   "source": [
    "layers = ([32, \"tanh\"],\n",
    "          [16, \"linear\"],\n",
    "          [8, \"tanh\"],\n",
    "          [4, \"tanh\"],\n",
    "          [1, \"linear\"])\n",
    "\n",
    "mlp = MultilayerPerceptronModel(layers, \n",
    "                                task=\"regression\", \n",
    "                                l_rate=0.1, \n",
    "                                n_epoch=50, \n",
    "                                regularize='lasso', \n",
    "                                alpha=0.25)\n",
    "mlp.fit(np.array(X_train_regression), np.array([y_train_regression]).T)\n",
    "y_pred = mlp.predict(np.array(X_test_regression))\n",
    "print(mean_absolute_error(y_pred, y_test_regression))"
   ]
  }
 ],
 "metadata": {
  "kernelspec": {
   "display_name": "venv",
   "language": "python",
   "name": "python3"
  },
  "language_info": {
   "codemirror_mode": {
    "name": "ipython",
    "version": 3
   },
   "file_extension": ".py",
   "mimetype": "text/x-python",
   "name": "python",
   "nbconvert_exporter": "python",
   "pygments_lexer": "ipython3",
   "version": "3.9.13"
  },
  "orig_nbformat": 4
 },
 "nbformat": 4,
 "nbformat_minor": 2
}
