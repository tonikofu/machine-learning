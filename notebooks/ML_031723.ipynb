{
 "cells": [
  {
   "cell_type": "code",
   "execution_count": 1,
   "metadata": {},
   "outputs": [],
   "source": [
    "import sys\n",
    "sys.path.insert(0, \"C://Users//MSI//Desktop//OmSTU//MachineLearning//models//Regression\")\n",
    "sys.path.insert(0, \"C://Users//MSI//Desktop//OmSTU//MachineLearning//models//DecisionTrees\")\n",
    "from error_metrics import MAE, MSE, RMSE, MAPE, R2\n",
    "\n",
    "import pandas as pd\n",
    "import numpy as np\n",
    "from sklearn.tree import DecisionTreeRegressor, DecisionTreeClassifier\n",
    "from sklearn.model_selection import GridSearchCV, train_test_split\n",
    "from sklearn.metrics import classification_report\n",
    "from sklearn.ensemble import BaggingClassifier, BaggingRegressor, GradientBoostingClassifier, GradientBoostingRegressor, StackingClassifier, StackingRegressor, RandomForestClassifier, RandomForestRegressor\n",
    "from sklearn.linear_model import LogisticRegression, LinearRegression"
   ]
  },
  {
   "cell_type": "code",
   "execution_count": 2,
   "metadata": {},
   "outputs": [],
   "source": [
    "def regression_report(y_true, y_pred):\n",
    "    print(\"MAE:\", MAE(y_true, y_pred))\n",
    "    print(\"MSE:\", MSE(y_true, y_pred))\n",
    "    print(\"RMSE:\", RMSE(y_true, y_pred))\n",
    "    print(\"MAPE:\", MAPE(y_true, y_pred))\n",
    "    print(\"R^2:\", R2(y_true, y_pred))"
   ]
  },
  {
   "cell_type": "markdown",
   "metadata": {},
   "source": [
    "# Задание 1\n",
    "Использовать DecisionTreeClassifier и DecisionTreeRegressor для наборов данных своего варианта."
   ]
  },
  {
   "cell_type": "code",
   "execution_count": 3,
   "metadata": {},
   "outputs": [],
   "source": [
    "param_grid = {\"max_depth\" : np.arange(1, 10, 1)}"
   ]
  },
  {
   "cell_type": "code",
   "execution_count": 3,
   "metadata": {},
   "outputs": [],
   "source": [
    "classify_data = pd.read_csv('..\\data\\card_transdata.csv').sample(1000)\n",
    "classify_target = classify_data[\"fraud\"]\n",
    "classify_predicators = classify_data.drop(columns=[\"fraud\"])\n",
    "\n",
    "X_train_classify, X_test_classify, y_train_classify, y_test_classify = train_test_split(\n",
    "    classify_predicators, classify_target, test_size = 0.1)"
   ]
  },
  {
   "cell_type": "code",
   "execution_count": 4,
   "metadata": {},
   "outputs": [],
   "source": [
    "regression_data = pd.read_csv('..\\data\\kc_house_data_preprocessed.csv').drop(columns=\"Unnamed: 0\").sample(1000)\n",
    "regression_target = regression_data[\"price\"]\n",
    "regression_predicators = regression_data.drop(columns=[\"price\"])\n",
    "\n",
    "X_train_regression, X_test_regression, y_train_regression, y_test_regression = train_test_split(\n",
    "    regression_predicators, regression_target, test_size=0.3)"
   ]
  },
  {
   "cell_type": "code",
   "execution_count": 6,
   "metadata": {},
   "outputs": [
    {
     "name": "stdout",
     "output_type": "stream",
     "text": [
      "              precision    recall  f1-score   support\n",
      "\n",
      "         0.0       1.00      0.99      0.99        92\n",
      "         1.0       0.89      1.00      0.94         8\n",
      "\n",
      "    accuracy                           0.99       100\n",
      "   macro avg       0.94      0.99      0.97       100\n",
      "weighted avg       0.99      0.99      0.99       100\n",
      "\n",
      "DecisionTreeClassifier(max_depth=6)\n"
     ]
    }
   ],
   "source": [
    "dtc = GridSearchCV(DecisionTreeClassifier(), param_grid=param_grid)\n",
    "dtc.fit(X_train_classify, y_train_classify)\n",
    "y_pred_classify = dtc.predict(X_test_classify)\n",
    "\n",
    "print(classification_report(y_pred_classify, y_test_classify))\n",
    "print(dtc.best_estimator_)"
   ]
  },
  {
   "cell_type": "code",
   "execution_count": 7,
   "metadata": {},
   "outputs": [
    {
     "name": "stdout",
     "output_type": "stream",
     "text": [
      "MAE: 124526.54225108931\n",
      "MSE: 43709980791.840416\n",
      "RMSE: 209069.32054187293\n",
      "MAPE: 0.21866407605146393\n",
      "R^2: 0.6557107861995717\n",
      "DecisionTreeRegressor(max_depth=4)\n"
     ]
    }
   ],
   "source": [
    "dtr = GridSearchCV(DecisionTreeRegressor(), param_grid=param_grid)\n",
    "dtr.fit(X_train_regression, y_train_regression)\n",
    "y_pred_regression = dtr.predict(X_test_regression)\n",
    "\n",
    "regression_report(y_test_regression, y_pred_regression)\n",
    "print(dtr.best_estimator_)"
   ]
  },
  {
   "attachments": {},
   "cell_type": "markdown",
   "metadata": {},
   "source": [
    "# Задание 2\n",
    " 2. Использовать [ансамбли](https://scikit-learn.org/stable/modules/classes.html#module-sklearn.ensemble) для наборов данных своего варианта:\n",
    "    - BaggingClassifier\n",
    "    - BaggingRegressor\n",
    "    - GradientBoostingClassifier\n",
    "    - GradientBoostingRegressor\n",
    "    - StackingClassifier\n",
    "    - StackingRegressor"
   ]
  },
  {
   "attachments": {},
   "cell_type": "markdown",
   "metadata": {},
   "source": [
    "### Bagging"
   ]
  },
  {
   "cell_type": "code",
   "execution_count": 8,
   "metadata": {},
   "outputs": [],
   "source": [
    "param_grid = {\"max_features\": np.arange(0.1, 1, 0.1),\n",
    "              \"max_samples\": np.arange(0.1, 1, 0.1)}"
   ]
  },
  {
   "cell_type": "code",
   "execution_count": 9,
   "metadata": {},
   "outputs": [
    {
     "name": "stdout",
     "output_type": "stream",
     "text": [
      "              precision    recall  f1-score   support\n",
      "\n",
      "         0.0       1.00      0.99      0.99        92\n",
      "         1.0       0.89      1.00      0.94         8\n",
      "\n",
      "    accuracy                           0.99       100\n",
      "   macro avg       0.94      0.99      0.97       100\n",
      "weighted avg       0.99      0.99      0.99       100\n",
      "\n",
      "BaggingClassifier(estimator=DecisionTreeClassifier(), max_features=0.9,\n",
      "                  max_samples=0.9, n_estimators=11)\n"
     ]
    }
   ],
   "source": [
    "bc = GridSearchCV(BaggingClassifier(estimator = DecisionTreeClassifier(), n_estimators=11), param_grid=param_grid)\n",
    "bc.fit(X_train_classify, y_train_classify)\n",
    "y_pred_bc = bc.predict(X_test_classify)\n",
    "\n",
    "print(classification_report(y_pred_bc, y_test_classify))\n",
    "print(bc.best_estimator_)"
   ]
  },
  {
   "cell_type": "code",
   "execution_count": 10,
   "metadata": {},
   "outputs": [
    {
     "name": "stdout",
     "output_type": "stream",
     "text": [
      "MAE: 99998.87696969698\n",
      "MSE: 31687463484.78104\n",
      "RMSE: 178009.7286239745\n",
      "MAPE: 0.1844501927170343\n",
      "R^2: 0.7504082204368845\n",
      "BaggingRegressor(estimator=DecisionTreeRegressor(),\n",
      "                 max_features=0.7000000000000001,\n",
      "                 max_samples=0.7000000000000001, n_estimators=11)\n"
     ]
    }
   ],
   "source": [
    "br = GridSearchCV(BaggingRegressor(estimator=DecisionTreeRegressor(), n_estimators=11), param_grid=param_grid)\n",
    "br.fit(X_train_regression, y_train_regression)\n",
    "y_pred_br = br.predict(X_test_regression)\n",
    "\n",
    "regression_report(y_test_regression, y_pred_br)\n",
    "print(br.best_estimator_)"
   ]
  },
  {
   "attachments": {},
   "cell_type": "markdown",
   "metadata": {},
   "source": [
    "### GradientBoosting"
   ]
  },
  {
   "cell_type": "code",
   "execution_count": 11,
   "metadata": {},
   "outputs": [],
   "source": [
    "param_grid = {\"learning_rate\" : np.arange(0.1, 1, 0.1),\n",
    "              \"max_depth\" : np.arange(1, 10, 1)}"
   ]
  },
  {
   "cell_type": "code",
   "execution_count": 12,
   "metadata": {},
   "outputs": [
    {
     "name": "stdout",
     "output_type": "stream",
     "text": [
      "              precision    recall  f1-score   support\n",
      "\n",
      "         0.0       1.00      0.99      0.99        92\n",
      "         1.0       0.89      1.00      0.94         8\n",
      "\n",
      "    accuracy                           0.99       100\n",
      "   macro avg       0.94      0.99      0.97       100\n",
      "weighted avg       0.99      0.99      0.99       100\n",
      "\n",
      "GradientBoostingClassifier(max_depth=5, n_estimators=11)\n"
     ]
    }
   ],
   "source": [
    "gbc = GridSearchCV(GradientBoostingClassifier(n_estimators=11), param_grid=param_grid)\n",
    "gbc.fit(X_train_classify, y_train_classify)\n",
    "y_pred_gbc = gbc.predict(X_test_classify)\n",
    "\n",
    "print(classification_report(y_pred_gbc, y_test_classify))\n",
    "print(gbc.best_estimator_)"
   ]
  },
  {
   "cell_type": "code",
   "execution_count": 13,
   "metadata": {},
   "outputs": [
    {
     "name": "stdout",
     "output_type": "stream",
     "text": [
      "MAE: 95451.88551113868\n",
      "MSE: 30496761353.52384\n",
      "RMSE: 174633.2195016854\n",
      "MAPE: 0.1646893572621751\n",
      "R^2: 0.7597869914455774\n",
      "GradientBoostingRegressor(learning_rate=0.30000000000000004, max_depth=4,\n",
      "                          n_estimators=11)\n"
     ]
    }
   ],
   "source": [
    "gbr = GridSearchCV(GradientBoostingRegressor(n_estimators=11), param_grid=param_grid)\n",
    "gbr.fit(X_train_regression, y_train_regression)\n",
    "y_pred_gbr = gbr.predict(X_test_regression)\n",
    "\n",
    "regression_report(y_test_regression, y_pred_gbr)\n",
    "print(gbr.best_estimator_)"
   ]
  },
  {
   "attachments": {},
   "cell_type": "markdown",
   "metadata": {},
   "source": [
    "### Stacking"
   ]
  },
  {
   "cell_type": "code",
   "execution_count": 14,
   "metadata": {},
   "outputs": [],
   "source": [
    "estimators_classify = [('rfc', RandomForestClassifier(n_estimators=11, random_state=0)),\n",
    "                       ('dcc', DecisionTreeClassifier(max_depth=5))]\n",
    "\n",
    "estimators_regression = [('rfr', RandomForestRegressor(n_estimators=11, random_state=0)),\n",
    "                         ('dcr', DecisionTreeRegressor(max_depth=5))]"
   ]
  },
  {
   "cell_type": "code",
   "execution_count": 15,
   "metadata": {},
   "outputs": [
    {
     "name": "stdout",
     "output_type": "stream",
     "text": [
      "              precision    recall  f1-score   support\n",
      "\n",
      "         0.0       1.00      0.99      0.99        92\n",
      "         1.0       0.89      1.00      0.94         8\n",
      "\n",
      "    accuracy                           0.99       100\n",
      "   macro avg       0.94      0.99      0.97       100\n",
      "weighted avg       0.99      0.99      0.99       100\n",
      "\n"
     ]
    }
   ],
   "source": [
    "sc = StackingClassifier(estimators=estimators_classify, final_estimator=LogisticRegression())\n",
    "sc.fit(X_train_classify, y_train_classify)\n",
    "y_pred_sc = sc.predict(X_test_classify)\n",
    "\n",
    "print(classification_report(y_pred_sc, y_test_classify))"
   ]
  },
  {
   "cell_type": "code",
   "execution_count": 16,
   "metadata": {},
   "outputs": [
    {
     "name": "stdout",
     "output_type": "stream",
     "text": [
      "MAE: 93121.2772585138\n",
      "MSE: 24653379262.24267\n",
      "RMSE: 157013.94607563582\n",
      "MAPE: 0.16788926538332116\n",
      "R^2: 0.8058133998241016\n"
     ]
    }
   ],
   "source": [
    "sr = StackingRegressor(estimators=estimators_regression, final_estimator=LinearRegression())\n",
    "sr.fit(X_train_regression, y_train_regression)\n",
    "y_pred_sr = sr.predict(X_test_regression)\n",
    "\n",
    "regression_report(y_test_regression, y_pred_sr)"
   ]
  },
  {
   "attachments": {},
   "cell_type": "markdown",
   "metadata": {},
   "source": [
    "# Задание 3"
   ]
  },
  {
   "cell_type": "code",
   "execution_count": 9,
   "metadata": {},
   "outputs": [
    {
     "name": "stdout",
     "output_type": "stream",
     "text": [
      "              precision    recall  f1-score   support\n",
      "\n",
      "         0.0       0.99      1.00      0.99        90\n",
      "         1.0       1.00      0.90      0.95        10\n",
      "\n",
      "    accuracy                           0.99       100\n",
      "   macro avg       0.99      0.95      0.97       100\n",
      "weighted avg       0.99      0.99      0.99       100\n",
      "\n"
     ]
    }
   ],
   "source": [
    "from catboost import CatBoostClassifier\n",
    "cat_classify = CatBoostClassifier(verbose=False)\n",
    "cat_classify.fit(X_train_classify, y_train_classify)\n",
    "y_pred_cat_classify = cat_classify.predict(X_test_classify)\n",
    "\n",
    "print(classification_report(y_pred_cat_classify, y_test_classify))"
   ]
  },
  {
   "cell_type": "code",
   "execution_count": 8,
   "metadata": {},
   "outputs": [
    {
     "name": "stdout",
     "output_type": "stream",
     "text": [
      "MAE: 74996.47444135485\n",
      "MSE: 17173310447.960814\n",
      "RMSE: 131046.97801918522\n",
      "MAPE: 0.15075637721353538\n",
      "R^2: 0.7182406595689153\n"
     ]
    }
   ],
   "source": [
    "from catboost import CatBoostRegressor\n",
    "cat_regression = CatBoostRegressor(verbose=False)\n",
    "cat_regression.fit(X_train_regression, y_train_regression)\n",
    "y_pred_cat_regression = cat_regression.predict(X_test_regression)\n",
    "\n",
    "regression_report(y_pred_cat_regression, y_test_regression)"
   ]
  },
  {
   "attachments": {},
   "cell_type": "markdown",
   "metadata": {},
   "source": [
    "# Задание 4"
   ]
  },
  {
   "attachments": {
    "image-2.png": {
     "image/png": "[encoded data removed]"
    },
    "image.png": {
     "image/png": "[encoded data removed]"
    }
   },
   "cell_type": "markdown",
   "metadata": {},
   "source": [
    "![image.png](attachment:image.png) - энтропия <br>\n",
    "![image.png](attachment:image-2.png) - информационный выйгрыш"
   ]
  },
  {
   "cell_type": "code",
   "execution_count": 8,
   "metadata": {},
   "outputs": [
    {
     "name": "stdout",
     "output_type": "stream",
     "text": [
      "              precision    recall  f1-score   support\n",
      "\n",
      "         0.0       0.99      1.00      0.99        93\n",
      "         1.0       1.00      0.86      0.92         7\n",
      "\n",
      "    accuracy                           0.99       100\n",
      "   macro avg       0.99      0.93      0.96       100\n",
      "weighted avg       0.99      0.99      0.99       100\n",
      "\n"
     ]
    }
   ],
   "source": [
    "from decision_tree_classifier import DecisionTreeClassifierModel\n",
    "\n",
    "dtcm = DecisionTreeClassifierModel(max_depth = 8)\n",
    "dtcm.fit(X_train_classify, y_train_classify)\n",
    "y_pred_dtcm = dtcm.predict(X_test_classify)\n",
    "\n",
    "print(classification_report(y_pred_dtcm, y_test_classify))"
   ]
  },
  {
   "cell_type": "code",
   "execution_count": 21,
   "metadata": {},
   "outputs": [
    {
     "name": "stdout",
     "output_type": "stream",
     "text": [
      "MAE: 152761.81575396826\n",
      "MSE: 58808167574.047134\n",
      "RMSE: 242503.95372869106\n",
      "MAPE: 0.27922206619868695\n",
      "R^2: 0.3321271395884653\n"
     ]
    }
   ],
   "source": [
    "from decision_tree_regressor import DecisionTreeRegressorModel\n",
    "\n",
    "dtrm = DecisionTreeRegressorModel(max_depth = 8)\n",
    "dtrm.fit(X_train_regression, y_train_regression)\n",
    "y_pred_dtrm = dtrm.predict(X_test_regression)\n",
    "\n",
    "regression_report(y_pred_dtrm, y_test_regression)"
   ]
  }
 ],
 "metadata": {
  "kernelspec": {
   "display_name": "venv",
   "language": "python",
   "name": "python3"
  },
  "language_info": {
   "codemirror_mode": {
    "name": "ipython",
    "version": 3
   },
   "file_extension": ".py",
   "mimetype": "text/x-python",
   "name": "python",
   "nbconvert_exporter": "python",
   "pygments_lexer": "ipython3",
   "version": "3.9.13"
  },
  "orig_nbformat": 4,
  "vscode": {
   "interpreter": {
    "hash": "398d84392467e386100da94ae063e43165ed8ee45ca82f44bbdfeff6350930ea"
   }
  }
 },
 "nbformat": 4,
 "nbformat_minor": 2
}
