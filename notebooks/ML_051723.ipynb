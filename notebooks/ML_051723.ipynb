{
 "cells": [
  {
   "attachments": {},
   "cell_type": "markdown",
   "metadata": {},
   "source": [
    "1. Используйте **наборы данных для классификации и регрессии**, с помощью которых вы выполняли ЛР1-ЛР4.\n",
    "2. С помощью классов библиотеки sklearn выполните понижение размерности (**размерность выберите сами, можно разные**) с использованием всех описанных методов (VarianceThreshold, SelectKBest, RFE, PCA, tSNE, Isomap).\n",
    "3. **Выберите две модели** (одна - для регрессии и другая - для классификации).\n",
    "4. Обучите выбранные модели с использованием данных в пространстве низкой размерности - **используйте результаты выполнения пункта 3** (не забудьте, что понижать нужно и X_train и X_test - проще всего понижать X). **Сделайте вывод** о том, какие методы понижения размерности лучше всего подходят для ваших данных.\n",
    "5. **Самостоятельно реализуйте алгоритм PCA**. Выполните с его помощью понижение размерности датасета для классификации до 2 (преобразуйте данные в двумерное пространство). **Выполните визуализацию данных** (точки на плоскости).\n",
    "6. Попробуйте выполнить **кластеризацию преобразованных в пункте 5 данных с помощью вашей реализации алгоритма KMeans** из ЛР6.\n",
    "7. Используйте оригинальный датасет для регрессии (без понижения размерности). Обучите любую из линейных моделей, реализованных вами в ЛР1. **Важно: модель должна быть реализована вами, не sklearn!** Посмотрите значения коэффициентов модели, выберите несколько признаков с наибольшими значениями коэффициентов.\n"
   ]
  },
  {
   "cell_type": "code",
   "execution_count": 8,
   "metadata": {},
   "outputs": [],
   "source": [
    "import sys\n",
    "sys.path.insert(0, \"C://Users//MSI//Desktop//OmSTU//MachineLearning/models//Downsizing\")\n",
    "sys.path.insert(0, \"C://Users//MSI//Desktop//OmSTU//MachineLearning/models//Clusterisation\")\n",
    "sys.path.insert(0, \"C://Users//MSI//Desktop//OmSTU//MachineLearning/models//Regression\")\n",
    "from pcamodel import PCAModel\n",
    "from kmeansmodel import KMeansModel\n",
    "from linear_regression import LinearRegressionModel\n",
    "import matplotlib.pyplot as plt\n",
    "\n",
    "import pandas as pd\n",
    "import numpy as np\n",
    "from sklearn.linear_model import LinearRegression\n",
    "from sklearn.naive_bayes import GaussianNB\n",
    "from sklearn.model_selection import train_test_split\n",
    "from sklearn.metrics import mean_absolute_error, classification_report\n",
    "from sklearn.preprocessing import StandardScaler\n",
    "from sklearn.tree import DecisionTreeClassifier, DecisionTreeRegressor\n",
    "from sklearn.feature_selection import VarianceThreshold, SelectKBest, RFE\n",
    "from sklearn.decomposition import PCA\n",
    "from sklearn.manifold import TSNE, Isomap"
   ]
  },
  {
   "attachments": {},
   "cell_type": "markdown",
   "metadata": {},
   "source": [
    "1. Используйте **наборы данных для классификации и регрессии**, с помощью которых вы выполняли ЛР1-ЛР4."
   ]
  },
  {
   "cell_type": "code",
   "execution_count": 9,
   "metadata": {},
   "outputs": [],
   "source": [
    "classification_data = pd.read_csv(\"../data/card_transdata.csv\").sample(5000)\n",
    "regression_data = pd.read_csv(\"../data/kc_house_data_preprocessed.csv\").drop(columns=[\"Unnamed: 0\"]).sample(5000)"
   ]
  },
  {
   "cell_type": "code",
   "execution_count": 10,
   "metadata": {},
   "outputs": [],
   "source": [
    "regression_Y = regression_data['price']\n",
    "regression_X = regression_data.drop(columns=['price'])"
   ]
  },
  {
   "cell_type": "code",
   "execution_count": 11,
   "metadata": {},
   "outputs": [],
   "source": [
    "classification_Y = classification_data['fraud']\n",
    "classification_X = classification_data.drop(columns=['fraud'])"
   ]
  },
  {
   "attachments": {},
   "cell_type": "markdown",
   "metadata": {},
   "source": [
    "2. С помощью классов библиотеки sklearn выполните понижение размерности (**размерность выберите сами, можно разные**) с использованием всех описанных методов (VarianceThreshold, SelectKBest, RFE, PCA, tSNE, Isomap)."
   ]
  },
  {
   "cell_type": "code",
   "execution_count": 12,
   "metadata": {},
   "outputs": [],
   "source": [
    "classification_X = StandardScaler().fit_transform(classification_X)\n",
    "regression_X = StandardScaler().fit_transform(regression_X)"
   ]
  },
  {
   "cell_type": "code",
   "execution_count": 13,
   "metadata": {},
   "outputs": [
    {
     "name": "stdout",
     "output_type": "stream",
     "text": [
      "classification_shape = (5000, 7)\n",
      "regrssion_shape = (5000, 21)\n"
     ]
    }
   ],
   "source": [
    "print(f\"classification_shape = { classification_X.shape }\")\n",
    "print(f\"regrssion_shape = { regression_X.shape }\")"
   ]
  },
  {
   "cell_type": "code",
   "execution_count": 14,
   "metadata": {},
   "outputs": [
    {
     "data": {
      "text/plain": [
       "(5000, 3)"
      ]
     },
     "execution_count": 14,
     "metadata": {},
     "output_type": "execute_result"
    }
   ],
   "source": [
    "vt = VarianceThreshold(1)\n",
    "X_vt_classify = vt.fit_transform(classification_X)\n",
    "X_vt_classify.shape"
   ]
  },
  {
   "cell_type": "code",
   "execution_count": 15,
   "metadata": {},
   "outputs": [
    {
     "data": {
      "text/plain": [
       "(5000, 4)"
      ]
     },
     "execution_count": 15,
     "metadata": {},
     "output_type": "execute_result"
    }
   ],
   "source": [
    "vt = VarianceThreshold(1)\n",
    "X_vt_regression = vt.fit_transform(regression_X)\n",
    "X_vt_regression.shape"
   ]
  },
  {
   "cell_type": "code",
   "execution_count": 16,
   "metadata": {},
   "outputs": [
    {
     "data": {
      "text/plain": [
       "(5000, 3)"
      ]
     },
     "execution_count": 16,
     "metadata": {},
     "output_type": "execute_result"
    }
   ],
   "source": [
    "skb = SelectKBest(k=3)\n",
    "X_skb_classify = skb.fit_transform(classification_X, classification_Y)\n",
    "X_skb_classify.shape"
   ]
  },
  {
   "cell_type": "code",
   "execution_count": 17,
   "metadata": {},
   "outputs": [
    {
     "data": {
      "text/plain": [
       "(5000, 5)"
      ]
     },
     "execution_count": 17,
     "metadata": {},
     "output_type": "execute_result"
    }
   ],
   "source": [
    "skb = SelectKBest(k=5)\n",
    "X_skb_regression = skb.fit_transform(regression_X, regression_Y)\n",
    "X_skb_regression.shape"
   ]
  },
  {
   "cell_type": "code",
   "execution_count": 18,
   "metadata": {},
   "outputs": [
    {
     "data": {
      "text/plain": [
       "(5000, 4)"
      ]
     },
     "execution_count": 18,
     "metadata": {},
     "output_type": "execute_result"
    }
   ],
   "source": [
    "tree = DecisionTreeClassifier().fit(classification_X, classification_Y)\n",
    "rfe = RFE(estimator=tree, n_features_to_select=4, step=1).fit(classification_X, classification_Y)\n",
    "X_rfe_classify = rfe.transform(classification_X)\n",
    "X_rfe_classify.shape"
   ]
  },
  {
   "cell_type": "code",
   "execution_count": 19,
   "metadata": {},
   "outputs": [
    {
     "data": {
      "text/plain": [
       "(5000, 5)"
      ]
     },
     "execution_count": 19,
     "metadata": {},
     "output_type": "execute_result"
    }
   ],
   "source": [
    "tree = DecisionTreeRegressor().fit(regression_X, regression_Y)\n",
    "rfe = RFE(estimator=tree, n_features_to_select=5, step=1).fit(regression_X, regression_Y)\n",
    "X_rfe_regression = rfe.transform(regression_X)\n",
    "X_rfe_regression.shape"
   ]
  },
  {
   "cell_type": "code",
   "execution_count": 20,
   "metadata": {},
   "outputs": [
    {
     "data": {
      "text/plain": [
       "(5000, 3)"
      ]
     },
     "execution_count": 20,
     "metadata": {},
     "output_type": "execute_result"
    }
   ],
   "source": [
    "pca = PCA(n_components=3)\n",
    "X_pca_classify = pca.fit_transform(classification_X, classification_Y)\n",
    "X_pca_classify.shape"
   ]
  },
  {
   "cell_type": "code",
   "execution_count": 21,
   "metadata": {},
   "outputs": [
    {
     "data": {
      "text/plain": [
       "(5000, 5)"
      ]
     },
     "execution_count": 21,
     "metadata": {},
     "output_type": "execute_result"
    }
   ],
   "source": [
    "pca = PCA(n_components=5)\n",
    "X_pca_regression = pca.fit_transform(regression_X, regression_Y)\n",
    "X_pca_regression.shape"
   ]
  },
  {
   "cell_type": "code",
   "execution_count": 22,
   "metadata": {},
   "outputs": [
    {
     "data": {
      "text/plain": [
       "(5000, 2)"
      ]
     },
     "execution_count": 22,
     "metadata": {},
     "output_type": "execute_result"
    }
   ],
   "source": [
    "tsne = TSNE(n_components=2)\n",
    "X_tsne_classify = tsne.fit_transform(classification_X)\n",
    "X_tsne_classify.shape"
   ]
  },
  {
   "cell_type": "code",
   "execution_count": 23,
   "metadata": {},
   "outputs": [
    {
     "data": {
      "text/plain": [
       "(5000, 2)"
      ]
     },
     "execution_count": 23,
     "metadata": {},
     "output_type": "execute_result"
    }
   ],
   "source": [
    "tsne = TSNE(n_components=2)\n",
    "X_tsne_regression = tsne.fit_transform(regression_X)\n",
    "X_tsne_regression.shape"
   ]
  },
  {
   "cell_type": "code",
   "execution_count": 24,
   "metadata": {},
   "outputs": [
    {
     "name": "stderr",
     "output_type": "stream",
     "text": [
      "c:\\Users\\MSI\\Desktop\\OmSTU\\MachineLearning\\venv\\lib\\site-packages\\sklearn\\manifold\\_isomap.py:373: UserWarning: The number of connected components of the neighbors graph is 3 > 1. Completing the graph to fit Isomap might be slow. Increase the number of neighbors to avoid this issue.\n",
      "  self._fit_transform(X)\n",
      "c:\\Users\\MSI\\Desktop\\OmSTU\\MachineLearning\\venv\\lib\\site-packages\\scipy\\sparse\\_index.py:103: SparseEfficiencyWarning: Changing the sparsity structure of a csr_matrix is expensive. lil_matrix is more efficient.\n",
      "  self._set_intXint(row, col, x.flat[0])\n",
      "c:\\Users\\MSI\\Desktop\\OmSTU\\MachineLearning\\venv\\lib\\site-packages\\scipy\\sparse\\_index.py:103: SparseEfficiencyWarning: Changing the sparsity structure of a csr_matrix is expensive. lil_matrix is more efficient.\n",
      "  self._set_intXint(row, col, x.flat[0])\n",
      "c:\\Users\\MSI\\Desktop\\OmSTU\\MachineLearning\\venv\\lib\\site-packages\\scipy\\sparse\\_index.py:103: SparseEfficiencyWarning: Changing the sparsity structure of a csr_matrix is expensive. lil_matrix is more efficient.\n",
      "  self._set_intXint(row, col, x.flat[0])\n"
     ]
    },
    {
     "data": {
      "text/plain": [
       "(5000, 5)"
      ]
     },
     "execution_count": 24,
     "metadata": {},
     "output_type": "execute_result"
    }
   ],
   "source": [
    "isomap = Isomap(n_components=5)\n",
    "X_isomap_classify = isomap.fit_transform(classification_X)\n",
    "X_isomap_classify.shape"
   ]
  },
  {
   "cell_type": "code",
   "execution_count": 25,
   "metadata": {},
   "outputs": [
    {
     "name": "stderr",
     "output_type": "stream",
     "text": [
      "c:\\Users\\MSI\\Desktop\\OmSTU\\MachineLearning\\venv\\lib\\site-packages\\sklearn\\manifold\\_isomap.py:373: UserWarning: The number of connected components of the neighbors graph is 2 > 1. Completing the graph to fit Isomap might be slow. Increase the number of neighbors to avoid this issue.\n",
      "  self._fit_transform(X)\n",
      "c:\\Users\\MSI\\Desktop\\OmSTU\\MachineLearning\\venv\\lib\\site-packages\\scipy\\sparse\\_index.py:103: SparseEfficiencyWarning: Changing the sparsity structure of a csr_matrix is expensive. lil_matrix is more efficient.\n",
      "  self._set_intXint(row, col, x.flat[0])\n"
     ]
    },
    {
     "data": {
      "text/plain": [
       "(5000, 2)"
      ]
     },
     "execution_count": 25,
     "metadata": {},
     "output_type": "execute_result"
    }
   ],
   "source": [
    "isomap = Isomap(n_components=2)\n",
    "X_isomap_regression = isomap.fit_transform(regression_X)\n",
    "X_isomap_regression.shape"
   ]
  },
  {
   "attachments": {},
   "cell_type": "markdown",
   "metadata": {},
   "source": [
    "3. **Выберите две модели** (одна - для регрессии и другая - для классификации)."
   ]
  },
  {
   "cell_type": "code",
   "execution_count": 26,
   "metadata": {},
   "outputs": [],
   "source": [
    "def regression_check(X, y):\n",
    "    X_train, X_test, y_train, y_test = train_test_split(X, y, test_size=0.33, shuffle=False)\n",
    "    lr = LinearRegression().fit(X_train, y_train)\n",
    "    return mean_absolute_error(y_test, lr.predict(X_test))"
   ]
  },
  {
   "cell_type": "code",
   "execution_count": 27,
   "metadata": {},
   "outputs": [],
   "source": [
    "def classify_check(X, y):\n",
    "    X_train, X_test, y_train, y_test = train_test_split(X, y, test_size=0.33, shuffle=False)\n",
    "    lr = GaussianNB().fit(X_train, y_train)\n",
    "    print(classification_report(y_test, lr.predict(X_test)))"
   ]
  },
  {
   "attachments": {},
   "cell_type": "markdown",
   "metadata": {},
   "source": [
    "4. Обучите выбранные модели с использованием данных в пространстве низкой размерности - **используйте результаты выполнения пункта 3** (не забудьте, что понижать нужно и X_train и X_test - проще всего понижать X). **Сделайте вывод** о том, какие методы понижения размерности лучше всего подходят для ваших данных."
   ]
  },
  {
   "cell_type": "code",
   "execution_count": 28,
   "metadata": {},
   "outputs": [
    {
     "name": "stdout",
     "output_type": "stream",
     "text": [
      "Original data:\t 130444.1781319766\n",
      "VarianceT:\t 176196.8786391855\n",
      "SelectKBest:\t 165470.4399819954\n",
      "RFE:\t\t 145759.62975327362\n",
      "PCA:\t\t 158582.60517659443\n",
      "TSNE:\t\t 241228.6925378788\n",
      "Isomap:\t\t 242711.3401661965\n"
     ]
    }
   ],
   "source": [
    "print(f\"Original data:\\t { regression_check(regression_X, regression_Y) }\")\n",
    "print(f\"VarianceT:\\t { regression_check(X_vt_regression, regression_Y) }\")\n",
    "print(f\"SelectKBest:\\t { regression_check(X_skb_regression, regression_Y) }\")\n",
    "print(f\"RFE:\\t\\t { regression_check(X_rfe_regression, regression_Y) }\")\n",
    "print(f\"PCA:\\t\\t { regression_check(X_pca_regression, regression_Y) }\")\n",
    "print(f\"TSNE:\\t\\t { regression_check(X_tsne_regression, regression_Y) }\")\n",
    "print(f\"Isomap:\\t\\t { regression_check(X_isomap_regression, regression_Y) }\")"
   ]
  },
  {
   "cell_type": "code",
   "execution_count": 29,
   "metadata": {},
   "outputs": [
    {
     "name": "stdout",
     "output_type": "stream",
     "text": [
      "Original data\n",
      "              precision    recall  f1-score   support\n",
      "\n",
      "         0.0       1.00      0.44      0.61      1501\n",
      "         1.0       0.15      1.00      0.26       149\n",
      "\n",
      "    accuracy                           0.49      1650\n",
      "   macro avg       0.58      0.72      0.44      1650\n",
      "weighted avg       0.92      0.49      0.58      1650\n",
      "\n"
     ]
    }
   ],
   "source": [
    "print(\"Original data\")\n",
    "classify_check(classification_X, classification_Y)"
   ]
  },
  {
   "cell_type": "code",
   "execution_count": 30,
   "metadata": {},
   "outputs": [
    {
     "name": "stdout",
     "output_type": "stream",
     "text": [
      "VT\n",
      "              precision    recall  f1-score   support\n",
      "\n",
      "         0.0       1.00      0.12      0.21      1501\n",
      "         1.0       0.10      1.00      0.18       149\n",
      "\n",
      "    accuracy                           0.20      1650\n",
      "   macro avg       0.55      0.56      0.20      1650\n",
      "weighted avg       0.92      0.20      0.21      1650\n",
      "\n"
     ]
    }
   ],
   "source": [
    "print(\"VT\")\n",
    "classify_check(X_vt_classify, classification_Y)"
   ]
  },
  {
   "cell_type": "code",
   "execution_count": 31,
   "metadata": {},
   "outputs": [
    {
     "name": "stdout",
     "output_type": "stream",
     "text": [
      "SKB\n",
      "              precision    recall  f1-score   support\n",
      "\n",
      "         0.0       0.93      0.99      0.96      1501\n",
      "         1.0       0.76      0.28      0.40       149\n",
      "\n",
      "    accuracy                           0.93      1650\n",
      "   macro avg       0.85      0.63      0.68      1650\n",
      "weighted avg       0.92      0.93      0.91      1650\n",
      "\n"
     ]
    }
   ],
   "source": [
    "print(\"SKB\")\n",
    "classify_check(X_skb_classify, classification_Y)"
   ]
  },
  {
   "cell_type": "code",
   "execution_count": 32,
   "metadata": {},
   "outputs": [
    {
     "name": "stdout",
     "output_type": "stream",
     "text": [
      "RFE\n",
      "              precision    recall  f1-score   support\n",
      "\n",
      "         0.0       1.00      0.44      0.61      1501\n",
      "         1.0       0.15      1.00      0.26       149\n",
      "\n",
      "    accuracy                           0.49      1650\n",
      "   macro avg       0.57      0.72      0.43      1650\n",
      "weighted avg       0.92      0.49      0.58      1650\n",
      "\n"
     ]
    }
   ],
   "source": [
    "print(\"RFE\")\n",
    "classify_check(X_rfe_classify, classification_Y)"
   ]
  },
  {
   "cell_type": "code",
   "execution_count": 33,
   "metadata": {},
   "outputs": [
    {
     "name": "stdout",
     "output_type": "stream",
     "text": [
      "PCA\n",
      "              precision    recall  f1-score   support\n",
      "\n",
      "         0.0       0.93      0.99      0.96      1501\n",
      "         1.0       0.67      0.20      0.31       149\n",
      "\n",
      "    accuracy                           0.92      1650\n",
      "   macro avg       0.80      0.60      0.63      1650\n",
      "weighted avg       0.90      0.92      0.90      1650\n",
      "\n"
     ]
    }
   ],
   "source": [
    "print(\"PCA\")\n",
    "classify_check(X_pca_classify, classification_Y)"
   ]
  },
  {
   "cell_type": "code",
   "execution_count": 34,
   "metadata": {},
   "outputs": [
    {
     "name": "stdout",
     "output_type": "stream",
     "text": [
      "TSNE\n",
      "              precision    recall  f1-score   support\n",
      "\n",
      "         0.0       0.91      1.00      0.95      1501\n",
      "         1.0       0.00      0.00      0.00       149\n",
      "\n",
      "    accuracy                           0.91      1650\n",
      "   macro avg       0.45      0.50      0.48      1650\n",
      "weighted avg       0.83      0.91      0.87      1650\n",
      "\n"
     ]
    },
    {
     "name": "stderr",
     "output_type": "stream",
     "text": [
      "c:\\Users\\MSI\\Desktop\\OmSTU\\MachineLearning\\venv\\lib\\site-packages\\sklearn\\metrics\\_classification.py:1344: UndefinedMetricWarning: Precision and F-score are ill-defined and being set to 0.0 in labels with no predicted samples. Use `zero_division` parameter to control this behavior.\n",
      "  _warn_prf(average, modifier, msg_start, len(result))\n",
      "c:\\Users\\MSI\\Desktop\\OmSTU\\MachineLearning\\venv\\lib\\site-packages\\sklearn\\metrics\\_classification.py:1344: UndefinedMetricWarning: Precision and F-score are ill-defined and being set to 0.0 in labels with no predicted samples. Use `zero_division` parameter to control this behavior.\n",
      "  _warn_prf(average, modifier, msg_start, len(result))\n",
      "c:\\Users\\MSI\\Desktop\\OmSTU\\MachineLearning\\venv\\lib\\site-packages\\sklearn\\metrics\\_classification.py:1344: UndefinedMetricWarning: Precision and F-score are ill-defined and being set to 0.0 in labels with no predicted samples. Use `zero_division` parameter to control this behavior.\n",
      "  _warn_prf(average, modifier, msg_start, len(result))\n"
     ]
    }
   ],
   "source": [
    "print(\"TSNE\")\n",
    "classify_check(X_tsne_classify, classification_Y)"
   ]
  },
  {
   "cell_type": "code",
   "execution_count": 35,
   "metadata": {},
   "outputs": [
    {
     "name": "stdout",
     "output_type": "stream",
     "text": [
      "Isomax\n",
      "              precision    recall  f1-score   support\n",
      "\n",
      "         0.0       0.91      1.00      0.95      1501\n",
      "         1.0       0.00      0.00      0.00       149\n",
      "\n",
      "    accuracy                           0.91      1650\n",
      "   macro avg       0.45      0.50      0.48      1650\n",
      "weighted avg       0.83      0.91      0.87      1650\n",
      "\n"
     ]
    },
    {
     "name": "stderr",
     "output_type": "stream",
     "text": [
      "c:\\Users\\MSI\\Desktop\\OmSTU\\MachineLearning\\venv\\lib\\site-packages\\sklearn\\metrics\\_classification.py:1344: UndefinedMetricWarning: Precision and F-score are ill-defined and being set to 0.0 in labels with no predicted samples. Use `zero_division` parameter to control this behavior.\n",
      "  _warn_prf(average, modifier, msg_start, len(result))\n",
      "c:\\Users\\MSI\\Desktop\\OmSTU\\MachineLearning\\venv\\lib\\site-packages\\sklearn\\metrics\\_classification.py:1344: UndefinedMetricWarning: Precision and F-score are ill-defined and being set to 0.0 in labels with no predicted samples. Use `zero_division` parameter to control this behavior.\n",
      "  _warn_prf(average, modifier, msg_start, len(result))\n",
      "c:\\Users\\MSI\\Desktop\\OmSTU\\MachineLearning\\venv\\lib\\site-packages\\sklearn\\metrics\\_classification.py:1344: UndefinedMetricWarning: Precision and F-score are ill-defined and being set to 0.0 in labels with no predicted samples. Use `zero_division` parameter to control this behavior.\n",
      "  _warn_prf(average, modifier, msg_start, len(result))\n"
     ]
    }
   ],
   "source": [
    "print(\"Isomax\")\n",
    "classify_check(X_isomap_classify, classification_Y)"
   ]
  },
  {
   "attachments": {},
   "cell_type": "markdown",
   "metadata": {},
   "source": [
    "5. **Самостоятельно реализуйте алгоритм PCA**. Выполните с его помощью понижение размерности датасета для классификации до 2 (преобразуйте данные в двумерное пространство). **Выполните визуализацию данных** (точки на плоскости)."
   ]
  },
  {
   "cell_type": "code",
   "execution_count": 36,
   "metadata": {},
   "outputs": [
    {
     "name": "stdout",
     "output_type": "stream",
     "text": [
      "(5000, 2)\n"
     ]
    }
   ],
   "source": [
    "pcamodel = PCAModel(n_components=2).fit_transform(pd.DataFrame(classification_X))\n",
    "print(pcamodel.shape)"
   ]
  },
  {
   "cell_type": "code",
   "execution_count": 37,
   "metadata": {},
   "outputs": [
    {
     "data": {
      "text/plain": [
       "<matplotlib.collections.PathCollection at 0x1c892e82e50>"
      ]
     },
     "execution_count": 37,
     "metadata": {},
     "output_type": "execute_result"
    },
    {
     "data": {
      "image/png": "[encoded data removed]",
      "text/plain": [
       "<Figure size 640x480 with 1 Axes>"
      ]
     },
     "metadata": {},
     "output_type": "display_data"
    }
   ],
   "source": [
    "plt.scatter(pcamodel[:,0], pcamodel[:,1], c=classification_Y)"
   ]
  },
  {
   "attachments": {},
   "cell_type": "markdown",
   "metadata": {},
   "source": [
    "6. Попробуйте выполнить **кластеризацию преобразованных в пункте 5 данных с помощью вашей реализации алгоритма KMeans** из ЛР6."
   ]
  },
  {
   "cell_type": "code",
   "execution_count": 38,
   "metadata": {},
   "outputs": [
    {
     "data": {
      "text/plain": [
       "<matplotlib.collections.PathCollection at 0x1c8b2d4b340>"
      ]
     },
     "execution_count": 38,
     "metadata": {},
     "output_type": "execute_result"
    },
    {
     "data": {
      "image/png": "[encoded data removed]",
      "text/plain": [
       "<Figure size 640x480 with 1 Axes>"
      ]
     },
     "metadata": {},
     "output_type": "display_data"
    }
   ],
   "source": [
    "kmm = KMeansModel(n_clusters=2, n_features=2)\n",
    "kmm.fit(pcamodel)\n",
    "\n",
    "plt.scatter(pcamodel[:,0], pcamodel[:,1], c=kmm.labels_)\n",
    "plt.scatter(kmm.cluster_centers_[:,0], kmm.cluster_centers_[:,1], s=100, c='red')"
   ]
  },
  {
   "attachments": {},
   "cell_type": "markdown",
   "metadata": {},
   "source": [
    "7. Используйте оригинальный датасет для регрессии (без понижения размерности). Обучите любую из линейных моделей, реализованных вами в ЛР1. **Важно: модель должна быть реализована вами, не sklearn!** Посмотрите значения коэффициентов модели, выберите несколько признаков с наибольшими значениями коэффициентов."
   ]
  },
  {
   "cell_type": "code",
   "execution_count": 39,
   "metadata": {},
   "outputs": [],
   "source": [
    "lrm = LinearRegressionModel(l_rate=1e-11, n_iter=10000)\n",
    "lrm.fit(regression_X, regression_Y)\n",
    "coefs = { regression_data.columns[i] : lrm.coef[i] for i in range(len(lrm.coef)) }"
   ]
  },
  {
   "cell_type": "code",
   "execution_count": 44,
   "metadata": {},
   "outputs": [
    {
     "data": {
      "text/plain": [
       "{'sqft_lot': 0.847316131734956,\n",
       " 'zipcode': 0.8362748169966762,\n",
       " 'condition': 0.8188298380271508,\n",
       " 'yr_renovated': 0.8022788577958377,\n",
       " 'yr_built': 0.6909936873233123,\n",
       " 'sqft_living': 0.6802313238677108,\n",
       " 'month': 0.5366502316966425,\n",
       " 'floors': 0.4903692199494759,\n",
       " 'lat': 0.44088877480230887,\n",
       " 'sqft_above': 0.4387619216816815,\n",
       " 'waterfront': 0.35618871697029647,\n",
       " 'day': 0.31623684880034375,\n",
       " 'bedrooms': 0.2910411336880706,\n",
       " 'price': 0.25556880908882545,\n",
       " 'long': 0.24674426453084378,\n",
       " 'sqft_living15': 0.18997124869734072,\n",
       " 'sqft_basement': 0.13699867263681287,\n",
       " 'year': 0.1252691053996999,\n",
       " 'bathrooms': 0.09859105800274943,\n",
       " 'grade': 0.06494861380381466,\n",
       " 'view': 0.042240799612970226}"
      ]
     },
     "execution_count": 44,
     "metadata": {},
     "output_type": "execute_result"
    }
   ],
   "source": [
    "dict(sorted(coefs.items(), key=lambda item: item[1], reverse=True))"
   ]
  }
 ],
 "metadata": {
  "kernelspec": {
   "display_name": "venv",
   "language": "python",
   "name": "python3"
  },
  "language_info": {
   "codemirror_mode": {
    "name": "ipython",
    "version": 3
   },
   "file_extension": ".py",
   "mimetype": "text/x-python",
   "name": "python",
   "nbconvert_exporter": "python",
   "pygments_lexer": "ipython3",
   "version": "3.9.13"
  },
  "orig_nbformat": 4
 },
 "nbformat": 4,
 "nbformat_minor": 2
}
